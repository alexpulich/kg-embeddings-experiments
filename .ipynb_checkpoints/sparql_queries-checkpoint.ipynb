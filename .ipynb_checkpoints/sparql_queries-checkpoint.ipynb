{
 "cells": [
  {
   "cell_type": "code",
   "execution_count": 17,
   "metadata": {},
   "outputs": [],
   "source": [
    "#imports\n",
    "import requests\n",
    "import math"
   ]
  },
  {
   "cell_type": "code",
   "execution_count": 18,
   "metadata": {},
   "outputs": [],
   "source": [
    "#some useful constants\n",
    "URL = 'https://query.wikidata.org/sparql'\n",
    "URI_BEFORE_ID_PART_ENT = 'http://www.wikidata.org/entity/'\n",
    "URI_BEFORE_ID_PART_REL = 'http://www.wikidata.org/prop/direct/'\n",
    "\n",
    "TYPE_ENTITY = 0\n",
    "TYPE_RELATION = 1\n",
    "\n",
    "UNION_CNT = 50\n",
    "\n",
    "FROM_FICTIONAL_UNIVERSE_REL = 'P1080'\n",
    "ASOIF_WORLD_ENT = 'Q2461698'\n",
    "HP_UNIVERSE_ENT = 'Q5410773'\n",
    "\n",
    "PRESENT_IN_WORK_REL = 'P1441'\n",
    "ASOIF_ENT = 'Q45875'\n",
    "HP_LIT_SERIES = 'Q8337'\n",
    "HP_FILM_SERIES = 'Q216930'"
   ]
  },
  {
   "cell_type": "code",
   "execution_count": 19,
   "metadata": {},
   "outputs": [],
   "source": [
    "def get_id_from_uri(uri, input_type):\n",
    "    \"\"\"Simply remove all the chars\"\"\"\n",
    "    if input_type == TYPE_ENTITY:\n",
    "        return uri.replace(URI_BEFORE_ID_PART_ENT, '')\n",
    "    if input_type == TYPE_RELATION:\n",
    "        return uri.replace(URI_BEFORE_ID_PART_REL, '')\n",
    "\n",
    "\n",
    "def build_entity_query(rel, tail):\n",
    "    query = '''SELECT ?id ?label\n",
    "    WHERE {\n",
    "        ?id wdt:%s wd:%s.\n",
    "        ?id rdfs:label ?label .\n",
    "        FILTER(lang(?label) = 'en')\n",
    "      }''' % (rel, tail)\n",
    "    return query\n",
    "\n",
    "\n",
    "def wikidata_request(query):\n",
    "    resp = requests.get(URL, params = {'format': 'json', 'query': query})\n",
    "    return resp.json()\n",
    "    \n",
    "    \n",
    "def retrieve_id_with_label(items_list):\n",
    "    \"\"\"Post-process data from wikidata\"\"\"\n",
    "    res = []\n",
    "    for item in items_list:\n",
    "        res.append({\n",
    "            'id': get_id_from_uri(item['id']['value'], TYPE_ENTITY),\n",
    "            'label': item['label']['value']\n",
    "        })\n",
    "    return res"
   ]
  },
  {
   "cell_type": "code",
   "execution_count": 20,
   "metadata": {},
   "outputs": [],
   "source": [
    "datasets = [wikidata_request(build_entity_query(FROM_FICTIONAL_UNIVERSE_REL, ASOIF_WORLD_ENT)), **wikidata_request(build_entity_query(FROM_FICTIONAL_UNIVERSE_REL, HP_UNIVERSE_ENT))]\n",
    "from_universe_entities = []\n",
    "for data in datasets:\n",
    "    from_universe_entities += [get_id_from_uri(item['id']['value'], TYPE_ENTITY) for item in data['results']['bindings']]\n",
    "\n",
    "data = {\n",
    "    **wikidata_request(build_entity_query(PRESENT_IN_WORK_REL, ASOIF_ENT)), \n",
    "    **wikidata_request(build_entity_query(PRESENT_IN_WORK_REL, HP_LIT_SERIES)), \n",
    "    **wikidata_request(build_entity_query(PRESENT_IN_WORK_REL, HP_FILM_SERIES))\n",
    "}\n",
    "present_in_work_entities = [get_id_from_uri(item['id']['value'], TYPE_ENTITY) for item in data['results']['bindings']]\n",
    "\n",
    "    "
   ]
  },
  {
   "cell_type": "code",
   "execution_count": 21,
   "metadata": {},
   "outputs": [],
   "source": [
    "entities = list(set(from_universe_entities+present_in_work_entities + [\n",
    "    ASOIF_WORLD_ENT, \n",
    "    ASOIF_ENT,\n",
    "    HP_UNIVERSE_ENT,\n",
    "    HP_LIT_SERIES,\n",
    "    HP_FILM_SERIES\n",
    "]))"
   ]
  },
  {
   "cell_type": "code",
   "execution_count": 22,
   "metadata": {},
   "outputs": [],
   "source": [
    "def create_bind_statement(id):\n",
    "    return '''\n",
    "    { BIND (wd:%s as ?s)\n",
    "      wd:%s ?p ?o . }\n",
    "    ''' % (id, id)\n",
    "    \n",
    "binds = []\n",
    "for e in present_in_work_entities:\n",
    "    binds.append(create_bind_statement(e))\n",
    "\n",
    "res = []\n",
    "for _ in range(math.ceil(len(binds) / UNION_CNT)):\n",
    "    q = '''CONSTRUCT {?s ?p ?o}\n",
    "    WHERE {''' + ' UNION '.join(binds[UNION_CNT * _: UNION_CNT * (_ + 1)]) + ' }'\n",
    "    t = wikidata_request(q)\n",
    "    res += t['results']['bindings']\n"
   ]
  },
  {
   "cell_type": "code",
   "execution_count": 23,
   "metadata": {},
   "outputs": [],
   "source": [
    "rel_triples = []\n",
    "rels = []\n",
    "for item in res:\n",
    "    if item['object']['value'].startswith('http://www.wikidata.org/entity/Q'):\n",
    "        head = get_id_from_uri(item['subject']['value'], TYPE_ENTITY)\n",
    "        rel = get_id_from_uri(item['predicate']['value'], TYPE_RELATION)\n",
    "        tail = get_id_from_uri(item['object']['value'], TYPE_ENTITY)\n",
    "        rels.append(rel)\n",
    "        rel_triples.append((head, tail, rel))\n",
    "        entities.append(tail)"
   ]
  },
  {
   "cell_type": "code",
   "execution_count": 24,
   "metadata": {},
   "outputs": [],
   "source": [
    "entities = list(set(entities))\n",
    "rels = list(set(rels))"
   ]
  },
  {
   "cell_type": "code",
   "execution_count": 25,
   "metadata": {},
   "outputs": [],
   "source": [
    "final_triples = []\n",
    "for item in rel_triples:\n",
    "    #e1 e2 r\n",
    "    triple = (entities.index(item[0]), entities.index(item[1]), rels.index(item[2]))\n",
    "    final_triples.append(triple)"
   ]
  },
  {
   "cell_type": "code",
   "execution_count": 26,
   "metadata": {},
   "outputs": [],
   "source": [
    "with open('datasets/entity2id.txt', 'w') as f:\n",
    "    f.write(\"%s\\n\" % len(entities))\n",
    "    for index, item in enumerate(entities):\n",
    "        f.write(\"%s\\t%s\\n\" % (item, index))"
   ]
  },
  {
   "cell_type": "code",
   "execution_count": 27,
   "metadata": {},
   "outputs": [],
   "source": [
    "with open('datasets/relation2id.txt', 'w') as f:\n",
    "    f.write(\"%s\\n\" % len(rels))\n",
    "    for index, item in enumerate(rels):\n",
    "        f.write(\"%s\\t%s\\n\" % (item, index))"
   ]
  },
  {
   "cell_type": "code",
   "execution_count": 28,
   "metadata": {},
   "outputs": [],
   "source": [
    "with open('datasets/train2id.txt', 'w') as f:\n",
    "    f.write(\"%s\\n\" % len(final_triples))\n",
    "    for item in final_triples:\n",
    "        f.write('%s\\t%s\\t%s\\n' % item)"
   ]
  },
  {
   "cell_type": "markdown",
   "metadata": {},
   "source": []
  }
 ],
 "metadata": {
  "kernelspec": {
   "display_name": "Python 3",
   "language": "python",
   "name": "python3"
  },
  "language_info": {
   "codemirror_mode": {
    "name": "ipython",
    "version": 3
   },
   "file_extension": ".py",
   "mimetype": "text/x-python",
   "name": "python",
   "nbconvert_exporter": "python",
   "pygments_lexer": "ipython3",
   "version": "3.7.0"
  }
 },
 "nbformat": 4,
 "nbformat_minor": 2
}
